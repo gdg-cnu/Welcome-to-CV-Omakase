{
  "nbformat": 4,
  "nbformat_minor": 0,
  "metadata": {
    "colab": {
      "provenance": []
    },
    "kernelspec": {
      "name": "python3",
      "display_name": "Python 3"
    },
    "language_info": {
      "name": "python"
    }
  },
  "cells": [
    {
      "cell_type": "markdown",
      "source": [
        "#  **딥러닝**\n",
        "\n",
        "딥러닝 모델 종류\n",
        "  + Sequential 모델\n",
        "    - DNN: 기본적인 딥러닝 모델\n",
        "    - CNN: 사진, 영상 딥러닝 모델\n",
        "    - RNN: 시계열, 자연어처리 딥러닝 모델\n",
        "    - AutoEncoder: 특징 추출 딥러닝 모델\n",
        "    - GAN: 생성형 딥러닝 모델\n",
        "    - Stable Difussion: New 생성형 딥러닝 모델\n",
        "\n",
        "  + Transformer 모델\n",
        "    - BERT(Google)\n",
        "    - GPT(OpenAI)"
      ],
      "metadata": {
        "id": "4jefHuc91uAi"
      }
    },
    {
      "cell_type": "markdown",
      "source": [
        "# **MNIST 데이터를 활용한 (숫자)손글씨 분류**\n",
        "\n",
        " - 데이터: MNIST\n",
        "   + 0~9까지의 손글씨 이미지 데이터\n",
        "   + 1장의 이미지는 28x28 구성(기본)\n",
        "   + 흑백(1픽셀: 0~255)\n",
        "   + Train: 60,000장, Test: 10,000장\n",
        " - 데이터 변환: 정규화(Normalization)\n",
        "   + Min-Max Scaler\n",
        " - 모델: CNN(2d)\n",
        " - 평가: Accuracy, F1-score, Confusion Matrix\n",
        " - 채널이 x1이면 흑백, x3이면 RGB"
      ],
      "metadata": {
        "id": "XnSFOeCm2SWL"
      }
    },
    {
      "cell_type": "markdown",
      "source": [
        "## 1. 모듈 로드"
      ],
      "metadata": {
        "id": "3NI6NIxMuAXi"
      }
    },
    {
      "cell_type": "markdown",
      "source": [
        "a. **torch**  \n",
        "   - PyTorch의 핵심 패키지로, 텐서 연산, 자동 미분, 신경망을 구성하고 학습하는 데 사용\n",
        "\n",
        "b. **torch.nn as nn**  \n",
        "   - 신경망을 구성하는 레이어, 손실 함수 등을 포함한 모듈로, `nn.Module` 클래스를 상속받아 딥러닝 모델의 구조를 정의하는 데 사용.\n",
        "\n",
        "c. **torch.optim as optim**  \n",
        "   - 모델 학습을 위한 최적화 알고리즘(SGD, Adam 등)이 들어 있는 모듈로, 학습 도중 가중치를 업데이트하는 데 사용\n",
        "\n",
        "d. **torch.nn.functional as F**  \n",
        "   - 다양한 신경망 함수들을 제공하며, 활성화 함수(ReLU)나 손실 함수 등을 모델 내부에서 호출하는 데 사용\n",
        "\n",
        "e. **torchvision.datasets**  \n",
        "   - 컴퓨터 비전에서 자주 사용되는 이미지 데이터셋(MNIST, CIFAR-10 등)을 불러오는 데 사용\n",
        "\n",
        "f. **torchvision.transforms**  \n",
        "   - 이미지 데이터에 정규화, 리사이즈 등의 전처리 작업을 적용하는 데 사용\n",
        "\n",
        "g. **matplotlib.pyplot as plt**  \n",
        "   - 손실 함수의 변화나 이미지 데이터를 시각적으로 보여줄 때 시각화를 위한 모듈로 사용\n",
        "\n",
        "h. **torch.utils.data.DataLoader**  \n",
        "   - 데이터셋을 배치 단위로 나누어 학습할 수 있게 해주는 모듈로, 메모리 효율성을 높이고 학습 속도를 증가시키기 위해 사용\n",
        "\n",
        "i. **torch.utils.data.random_split**  \n",
        "   - 주어진 데이터셋을 훈련용과 검증용으로 랜덤하게 나누는 데 사용\n"
      ],
      "metadata": {
        "id": "RGUqBdtRRuqe"
      }
    },
    {
      "cell_type": "code",
      "source": [
        "! pip install torchvision\n"
      ],
      "metadata": {
        "colab": {
          "base_uri": "https://localhost:8080/"
        },
        "id": "aPFmSP7XupW2",
        "outputId": "8e713133-b87b-4c74-97de-dbfd4679d428"
      },
      "execution_count": null,
      "outputs": [
        {
          "output_type": "stream",
          "name": "stdout",
          "text": [
            "Requirement already satisfied: torchvision in /usr/local/lib/python3.10/dist-packages (0.19.1+cu121)\n",
            "Requirement already satisfied: numpy in /usr/local/lib/python3.10/dist-packages (from torchvision) (1.26.4)\n",
            "Requirement already satisfied: torch==2.4.1 in /usr/local/lib/python3.10/dist-packages (from torchvision) (2.4.1+cu121)\n",
            "Requirement already satisfied: pillow!=8.3.*,>=5.3.0 in /usr/local/lib/python3.10/dist-packages (from torchvision) (10.4.0)\n",
            "Requirement already satisfied: filelock in /usr/local/lib/python3.10/dist-packages (from torch==2.4.1->torchvision) (3.16.1)\n",
            "Requirement already satisfied: typing-extensions>=4.8.0 in /usr/local/lib/python3.10/dist-packages (from torch==2.4.1->torchvision) (4.12.2)\n",
            "Requirement already satisfied: sympy in /usr/local/lib/python3.10/dist-packages (from torch==2.4.1->torchvision) (1.13.3)\n",
            "Requirement already satisfied: networkx in /usr/local/lib/python3.10/dist-packages (from torch==2.4.1->torchvision) (3.3)\n",
            "Requirement already satisfied: jinja2 in /usr/local/lib/python3.10/dist-packages (from torch==2.4.1->torchvision) (3.1.4)\n",
            "Requirement already satisfied: fsspec in /usr/local/lib/python3.10/dist-packages (from torch==2.4.1->torchvision) (2024.6.1)\n",
            "Requirement already satisfied: MarkupSafe>=2.0 in /usr/local/lib/python3.10/dist-packages (from jinja2->torch==2.4.1->torchvision) (2.1.5)\n",
            "Requirement already satisfied: mpmath<1.4,>=1.1.0 in /usr/local/lib/python3.10/dist-packages (from sympy->torch==2.4.1->torchvision) (1.3.0)\n"
          ]
        }
      ]
    },
    {
      "cell_type": "code",
      "execution_count": null,
      "metadata": {
        "id": "57boeRlvthOq"
      },
      "outputs": [],
      "source": [
        "import torch\n",
        "import torch.nn as nn\n",
        "import torch.optim as optim\n",
        "import torch.nn.functional as F\n",
        "from torchvision import datasets, transforms\n",
        "import matplotlib.pyplot as plt\n",
        "from torch.utils.data import DataLoader\n",
        "from torch.utils.data import random_split"
      ]
    },
    {
      "cell_type": "markdown",
      "source": [
        "## 2. 데이터셋 다운로드 및 확인"
      ],
      "metadata": {
        "id": "3o3up4ftuONu"
      }
    },
    {
      "cell_type": "markdown",
      "source": [
        "### **데이터셋 로드 및 전처리**\n",
        "\n",
        "`transforms.Compose`를 사용하여 **이미지 데이터를 텐서(Tensor)로 변환**하고, **정규화(Normalization)**를 적용 (\n",
        " MNIST 데이터는 픽셀 값이 0~255 사이인데, 이를 -1에서 1 사이로 변환하여 모델 학습에 더 적합하게 만듦)  \n",
        "\n",
        "`datasets.MNIST`를 사용해 **MNIST 데이터셋을 다운로드**하고, 훈련용(`train=True`)과 테스트용(`train=False`)으로 각각 로드함\n",
        "\n",
        "\n",
        "\n",
        "* 데이터 로더 생성\n",
        "\n",
        "`torch.utils.data.DataLoader`를 사용하여 **데이터셋을 배치 단위로 나누어 로딩**함. 훈련 데이터는 배치 크기 64로 설정하고 **셔플(Shuffle)**하여 데이터를 섞은 후, 모델이 항상 같은 순서로 학습하지 않도록 함. 테스트 데이터는 셔플하지 않고 배치 단위로 로딩함.\n",
        "\n",
        "---\n",
        "\n",
        "\n",
        "### **학습 데이터 확인**\n",
        "\n",
        "`iter(train_loader)`를 통해 **학습 데이터에서 첫 번째 배치**를 가져옴. 이 배치에서 **이미지와 라벨**을 확인할 수 있었음.\n",
        "\n",
        "\n",
        "* 첫 번째 이미지 시각화\n",
        "\n",
        "가져온 학습 데이터의 첫 번째 이미지를 **matplotlib의 imshow 함수**를 사용해 흑백(`cmap='gray'`)으로 시각화함. **라벨**(숫자가 무엇인지)도 함께 표시하여, 이미지와 실제 값이 무엇인지를 확인함.\n",
        "\n",
        "\n",
        "*  데이터 크기 확인\n",
        "`len(train_set)`과 `len(test_set)`을 통해 **훈련 데이터와 테스트 데이터의 총 이미지 개수**를 출력함. 훈련 데이터는 60,000장, 테스트 데이터는 10,000장으로 구성되어 있음을 확인할 수 있었음.\n",
        "\n",
        "\n"
      ],
      "metadata": {
        "id": "hqOOHkRfTcoy"
      }
    },
    {
      "cell_type": "code",
      "source": [
        "# 데이터셋 로드\n",
        "transform = transforms.Compose([transforms.ToTensor(), transforms.Normalize((0.5,), (0.5,))])\n",
        "\n",
        "train_set = datasets.MNIST(root='./data', train=True, download=True, transform=transform)\n",
        "test_set = datasets.MNIST(root='./data', train=False, download=True, transform=transform)\n",
        "\n",
        "# 데이터 로더 생성\n",
        "train_loader = torch.utils.data.DataLoader(dataset=train_set, batch_size=64, shuffle=True)\n",
        "test_loader = torch.utils.data.DataLoader(dataset=test_set, batch_size=64, shuffle=False)\n",
        "\n",
        "\n"
      ],
      "metadata": {
        "id": "ugjxahKhuNO8"
      },
      "execution_count": null,
      "outputs": []
    },
    {
      "cell_type": "code",
      "source": [
        "# 학습 데이터 확인\n",
        "data_iter = iter(train_loader)\n",
        "images, labels = next(data_iter)\n",
        "\n",
        "# 첫 번째 이미지 시각화\n",
        "plt.imshow(images[0][0], cmap='gray')\n",
        "plt.title(f\"Label: {labels[0]}\")\n",
        "plt.show()\n",
        "\n",
        "# 데이터 크기 확인\n",
        "print(f\"학습 데이터 크기: {len(train_set)}\")\n",
        "print(f\"테스트 데이터 크기: {len(test_set)}\")"
      ],
      "metadata": {
        "colab": {
          "base_uri": "https://localhost:8080/",
          "height": 487
        },
        "id": "DsF8-N7XwZud",
        "outputId": "a9e29be9-4053-4a83-d288-82a73f0bb9c5"
      },
      "execution_count": null,
      "outputs": [
        {
          "output_type": "display_data",
          "data": {
            "text/plain": [
              "<Figure size 640x480 with 1 Axes>"
            ],
            "image/png": "[encoded data removed]"
          },
          "metadata": {}
        },
        {
          "output_type": "stream",
          "name": "stdout",
          "text": [
            "학습 데이터 크기: 60000\n",
            "테스트 데이터 크기: 10000\n"
          ]
        }
      ]
    },
    {
      "cell_type": "markdown",
      "source": [
        "## 3. 데이터 정규화"
      ],
      "metadata": {
        "id": "uO9ZgbqXxuh6"
      }
    },
    {
      "cell_type": "code",
      "source": [
        "# 학습 데이터와 테스트 데이터를 0~1 사이로 정규화\n",
        "x_train = train_set.data.float() / 255\n",
        "x_test = test_set.data.float() / 255\n",
        "\n",
        "# 데이터의 Shape 변환\n",
        "# CNN을 위한 4차원으로 변환 (batch_size, channels, height, width)\n",
        "x_train = x_train.unsqueeze(1)  # 채널 1 추가\n",
        "x_test = x_test.unsqueeze(1)    # 채널 1 추가\n",
        "\n",
        "print(x_train.shape)  # (60000, 1, 28, 28)\n",
        "print(x_test.shape)   # (10000, 1, 28, 28)"
      ],
      "metadata": {
        "colab": {
          "base_uri": "https://localhost:8080/"
        },
        "id": "DkzcVoN-xpFx",
        "outputId": "b85367a9-be39-43e6-eea3-e592a506ab06"
      },
      "execution_count": null,
      "outputs": [
        {
          "output_type": "stream",
          "name": "stdout",
          "text": [
            "torch.Size([60000, 1, 28, 28])\n",
            "torch.Size([10000, 1, 28, 28])\n"
          ]
        }
      ]
    },
    {
      "cell_type": "markdown",
      "source": [
        "## 4. 검증 데이터 (validation data) 생성"
      ],
      "metadata": {
        "id": "4pWxkPqIx9OL"
      }
    },
    {
      "cell_type": "code",
      "source": [
        "# 전체 데이터의 80%를 학습, 20%를 검증으로 나눔\n",
        "train_size = int(0.8 * len(train_set))\n",
        "valid_size = len(train_set) - train_size\n",
        "\n",
        "# Train(48,000), Valid(12,000)\n",
        "train_set, valid_set = random_split(train_set, [train_size, valid_size])\n",
        "\n",
        "# 학습 데이터와 검증 데이터의 크기 확인\n",
        "print(f\"Train data size: {len(train_set)}\")\n",
        "print(f\"Validation data size: {len(valid_set)}\")"
      ],
      "metadata": {
        "colab": {
          "base_uri": "https://localhost:8080/"
        },
        "id": "SBilLyMDx7dV",
        "outputId": "364b6069-236e-4545-b7ff-ccb02ede6403"
      },
      "execution_count": null,
      "outputs": [
        {
          "output_type": "stream",
          "name": "stdout",
          "text": [
            "Train data size: 48000\n",
            "Validation data size: 12000\n"
          ]
        }
      ]
    },
    {
      "cell_type": "markdown",
      "source": [
        "## 5. 딥러닝(CNN) 모델 설계"
      ],
      "metadata": {
        "id": "O1aCFOUbyO2n"
      }
    },
    {
      "cell_type": "markdown",
      "source": [
        "#### 합성곱 레이어 및 풀링 레이어\n",
        "* conv1: 첫 번째 합성곱 레이어로, 1채널(흑백) 이미지를 입력받아 16개의 필터를 사용해 처리함. 커널 크기는 5x5이며, 패딩을 2로 설정해 출력 크기를 유지함.\n",
        "* pool: Max Pooling 레이어로, 2x2 크기의 풀링 필터를 사용하여 이미지 크기를 절반으로 줄임.\n",
        "* conv2: 두 번째 합성곱 레이어로, 16개의 입력 채널을 받아 32개의 필터를 출력함. 커널 크기는 2x2이고, 패딩은 1임.\n"
      ],
      "metadata": {
        "id": "H6gdYpFhap2l"
      }
    },
    {
      "cell_type": "markdown",
      "source": [
        "#### 완전 연결 레이어 및 드롭아웃\n",
        "\n",
        "* fc1: 첫 번째 완전 연결 레이어로, 합성곱 레이어와 풀링 과정을 거친 32채널의 7x7 크기의 데이터를 100개의 뉴런으로 연결함.\n",
        "* fc2: 두 번째 완전 연결 레이어로, 100개의 뉴런을 10개의 출력(0~9 손글씨 숫자 분류)으로 변환함.\n",
        "* dropout: 과적합을 방지하기 위해 학습 과정에서 25%의 뉴런을 무작위로 제거함.\n"
      ],
      "metadata": {
        "id": "aEou1zdCbCNv"
      }
    },
    {
      "cell_type": "markdown",
      "source": [
        "#### 순전파 과정\n",
        "\n",
        "* **첫 번째 합성곱(conv1)과 풀링(pool)**을 통해 이미지의 주요 특징을 추출한 후 ReLU 활성화 함수를 사용해 비선형성을 적용함.\n",
        "* 두 번째 합성곱(conv2)과 풀링을 거쳐 데이터를 평탄화(flatten) 하여 2D 이미지를 1D 벡터로 변환함.\n",
        "* **완전 연결 레이어(fc1)**를 통과시킨 후, 드롭아웃을 적용해 과적합을 방지하고, fc2에서 최종 출력을 도출함."
      ],
      "metadata": {
        "id": "Q-2bk6zzbNYO"
      }
    },
    {
      "cell_type": "markdown",
      "source": [
        "### CNNModel 클래스를 사용해 모델을 초기화하고, print(model)을 통해 CNN 모델의 전체 구조를 확인할 수 있음."
      ],
      "metadata": {
        "id": "x8zxJ8EpbZyP"
      }
    },
    {
      "cell_type": "code",
      "source": [
        "class CNNModel(nn.Module):\n",
        "    def __init__(self):\n",
        "        super(CNNModel, self).__init__()\n",
        "        self.conv1 = nn.Conv2d(1, 16, kernel_size=5, padding=2)\n",
        "        self.pool = nn.MaxPool2d(2, 2)\n",
        "        self.conv2 = nn.Conv2d(16, 32, kernel_size=2, padding=1)\n",
        "        self.fc1 = nn.Linear(32 * 7 * 7, 100)\n",
        "        self.fc2 = nn.Linear(100, 10)\n",
        "        self.dropout = nn.Dropout(0.25)\n",
        "\n",
        "    def forward(self, x):\n",
        "        x = self.pool(torch.relu(self.conv1(x)))\n",
        "        x = self.pool(torch.relu(self.conv2(x)))\n",
        "        x = x.view(-1, 32 * 7 * 7)\n",
        "        x = torch.relu(self.fc1(x))\n",
        "        x = self.dropout(x)\n",
        "        x = self.fc2(x)\n",
        "        return x\n",
        "\n",
        "# 모델 초기화\n",
        "model = CNNModel()\n",
        "print(model)"
      ],
      "metadata": {
        "colab": {
          "base_uri": "https://localhost:8080/"
        },
        "id": "-EIid3zqyV09",
        "outputId": "056fb576-75f1-41bb-93d9-011a8748fdf1"
      },
      "execution_count": null,
      "outputs": [
        {
          "output_type": "stream",
          "name": "stdout",
          "text": [
            "CNNModel(\n",
            "  (conv1): Conv2d(1, 16, kernel_size=(5, 5), stride=(1, 1), padding=(2, 2))\n",
            "  (pool): MaxPool2d(kernel_size=2, stride=2, padding=0, dilation=1, ceil_mode=False)\n",
            "  (conv2): Conv2d(16, 32, kernel_size=(2, 2), stride=(1, 1), padding=(1, 1))\n",
            "  (fc1): Linear(in_features=1568, out_features=100, bias=True)\n",
            "  (fc2): Linear(in_features=100, out_features=10, bias=True)\n",
            "  (dropout): Dropout(p=0.25, inplace=False)\n",
            ")\n"
          ]
        }
      ]
    },
    {
      "cell_type": "markdown",
      "source": [
        "## 6. 딥러닝 모델 학습을 위한 설정"
      ],
      "metadata": {
        "id": "eklKcjK4yVc6"
      }
    },
    {
      "cell_type": "markdown",
      "source": [
        "* 손실 함수(Criterion): CrossEntropyLoss는 분류 문제에서 사용되는 손실 함수로, 모델이 예측한 값과 실제 정답 사이의 차이를 계산하여 모델의 성능을 평가하는 데 사용됨.\n",
        "\n",
        "* 최적화 함수(Optimizer): Adam 옵티마이저는 가중치 업데이트를 효율적으로 하기 위한 최적화 알고리즘으로, 학습률(lr)은 0.001로 설정함. Adam은 SGD보다 빠르고 적응적인 학습이 가능함."
      ],
      "metadata": {
        "id": "S7nfqbHYbm2u"
      }
    },
    {
      "cell_type": "markdown",
      "source": [
        "* Early Stopping: 모델이 학습 중 과적합을 방지하기 위해, 성능이 개선되지 않으면 학습을 조기에 중단하는 방법. **patience**는 성능이 개선되지 않아도 기다리는 횟수를 의미하며, 여기서는 3번으로 설정됨.\n",
        "\n",
        "* best_loss: 현재까지 가장 낮은 손실 값을 저장하기 위한 변수로, 초기값은 무한대로 설정됨.\n",
        "\n",
        "* early_stopping_counter: 성능 개선이 이루어지지 않은 에포크 수를 추적하는 변수로, 이 값이 early_stopping_patience를 초과하면 학습이 중단됨."
      ],
      "metadata": {
        "id": "KT62denzbuAM"
      }
    },
    {
      "cell_type": "code",
      "source": [
        "# 손실 함수와 최적화 함수 정의\n",
        "criterion = nn.CrossEntropyLoss()  # 분류 문제이므로 CrossEntropyLoss 사용\n",
        "optimizer = optim.Adam(model.parameters(), lr=0.001)  # Adam optimizer 사용\n",
        "\n",
        "# Early Stopping을 위한 변수 설정\n",
        "early_stopping_patience = 3\n",
        "best_loss = float('inf')\n",
        "early_stopping_counter = 0"
      ],
      "metadata": {
        "id": "yWuJPqknynWe"
      },
      "execution_count": null,
      "outputs": []
    },
    {
      "cell_type": "markdown",
      "source": [
        "## 7. 딥러닝 모델 학습"
      ],
      "metadata": {
        "id": "iSYtl0xKy0Nk"
      }
    },
    {
      "cell_type": "markdown",
      "source": [
        "\n",
        "\n",
        "* Epoch 반복: num_epochs = 5로 설정하여 모델을 5번 반복해서 학습시킴. epoch은 전체 학습 데이터가 한 번씩 모델을 통과하는 과정임.\n",
        "\n",
        "* 모델 학습 모드: model.train()을 호출하여 모델을 학습 모드로 전환함. 이 모드에서는 드롭아웃과 같은 레이어가 활성화됨.\n",
        "\n",
        "* 경사 초기화: optimizer.zero_grad()를 사용해 이전 배치에서 계산된 경사를 초기화함.\n",
        "\n",
        "* 순전파: 입력 데이터를 모델에 넣어 예측값(outputs)을 생성함.\n",
        "\n",
        "* 손실 계산: criterion(CrossEntropyLoss)을 사용해 모델의 예측값과 실제 라벨(labels) 간의 **손실(loss)**을 계산함.\n",
        "\n",
        "* 역전파: loss.backward()를 호출하여 역전파를 통해 경사를 계산하고, 모델의 파라미터에 대한 그래디언트를 계산함.\n",
        "\n",
        "* 가중치 갱신: optimizer.step()을 호출하여 경사 하강법을 통해 가중치를 갱신함."
      ],
      "metadata": {
        "id": "7qATMY9zcD38"
      }
    },
    {
      "cell_type": "code",
      "source": [
        "num_epochs = 5\n",
        "for epoch in range(num_epochs):\n",
        "    model.train()\n",
        "    running_loss = 0.0\n",
        "    for i, (inputs, labels) in enumerate(train_loader):\n",
        "        optimizer.zero_grad()  # 경사 초기화\n",
        "        outputs = model(inputs)  # 순전파\n",
        "        loss = criterion(outputs, labels)  # 손실 계산\n",
        "        loss.backward()  # 역전파\n",
        "        optimizer.step()  # 가중치 갱신\n",
        "\n",
        "        running_loss += loss.item()\n",
        "\n",
        "    # 검증 데이터에 대한 성능 평가\n",
        "    model.eval()\n",
        "    valid_loss = 0.0\n",
        "    with torch.no_grad():\n",
        "        for inputs, labels in test_loader:\n",
        "            outputs = model(inputs)\n",
        "            loss = criterion(outputs, labels)\n",
        "            valid_loss += loss.item()\n",
        "\n",
        "    print(f\"Epoch [{epoch+1}/{num_epochs}], Training Loss: {running_loss / len(train_loader)}, Validation Loss: {valid_loss / len(test_loader)}\")\n",
        "\n"
      ],
      "metadata": {
        "colab": {
          "base_uri": "https://localhost:8080/"
        },
        "id": "59-Q6dXsyy5q",
        "outputId": "21362d5c-3831-4102-b80e-10b0ab541ab8"
      },
      "execution_count": null,
      "outputs": [
        {
          "output_type": "stream",
          "name": "stdout",
          "text": [
            "Epoch [1/5], Training Loss: 0.2717101652426387, Validation Loss: 0.06079215464808023\n",
            "Epoch [2/5], Training Loss: 0.0846850287436303, Validation Loss: 0.03912821759895798\n",
            "Epoch [3/5], Training Loss: 0.06393228004103713, Validation Loss: 0.033431166095675265\n",
            "Epoch [4/5], Training Loss: 0.05248750388837739, Validation Loss: 0.03671887713145879\n",
            "Epoch [5/5], Training Loss: 0.046278531305310226, Validation Loss: 0.02904873142343042\n"
          ]
        }
      ]
    },
    {
      "cell_type": "markdown",
      "source": [
        "## 8. 딥러닝 모델 평가"
      ],
      "metadata": {
        "id": "GTEX_0XC0ev-"
      }
    },
    {
      "cell_type": "code",
      "source": [
        "from sklearn.metrics import accuracy_score, f1_score, confusion_matrix\n"
      ],
      "metadata": {
        "id": "HnQu1hEP1VQd"
      },
      "execution_count": null,
      "outputs": []
    },
    {
      "cell_type": "markdown",
      "source": [
        "* torch.no_grad(): 평가 시에는 역전파를 비활성화하여 메모리와 계산 비용을 절약함.\n",
        "* torch.max(outputs, 1): 각 입력에 대해 **최대값을 가진 클래스(예측 값)**를 반환함.\n",
        "* y_pred와 y_true에 예측 값과 실제 라벨을 저장하여 성능 평가에 사용함."
      ],
      "metadata": {
        "id": "9FJ7yXnvccbP"
      }
    },
    {
      "cell_type": "markdown",
      "source": [
        "* accuracy_score: 모델의 **정확도(Accuracy)**를 계산함. 전체 예측 중 맞춘 비율을 나타냄.\n",
        "\n",
        "* Test Accuracy는 0.9898로 출력됨, 이는 모델이 테스트 데이터에서 약 98.98%의 정확도를 보였다는 의미임.\n",
        "\n",
        "* F1 스코어: 모델의 **정확도와 재현율(Recall)**을 모두 고려한 성능 지표로, 불균형한 데이터에서 더 유용함.\n",
        "\n",
        "* weighted average를 사용해 각 클래스의 비율을 고려한 F1 스코어를 계산함.\n",
        "\n",
        "* Test F1은 0.9898로 출력됨.\n",
        "\n",
        "* 혼동 행렬(Confusion Matrix): 각 클래스별로 실제 값과 예측 값의 분포를 보여줌. 혼동 행렬을 통해 모델이 어느 클래스에서 잘못 예측했는지 확인할 수 있음.\n",
        "\n",
        "* 출력된 혼동 행렬은 10개의 숫자 클래스(0~9)에 대한 예측 결과를 보여줌."
      ],
      "metadata": {
        "id": "_j9F3B_YcjeK"
      }
    },
    {
      "cell_type": "code",
      "source": [
        " # 모델 평가 모드로 전환\n",
        "model.eval()\n",
        "\n",
        "# 예측 및 정확도 계산\n",
        "y_pred = []\n",
        "y_true = []\n",
        "\n",
        "with torch.no_grad():\n",
        "    for inputs, labels in test_loader:\n",
        "        outputs = model(inputs)\n",
        "        _, predicted = torch.max(outputs, 1)\n",
        "        y_pred.extend(predicted.numpy())\n",
        "        y_true.extend(labels.numpy())\n",
        "\n",
        "# 정확도 계산\n",
        "accuracy = accuracy_score(y_true, y_pred)\n",
        "print(f'Test Accuracy: {accuracy}')\n",
        "\n",
        "# F1 스코어 계산\n",
        "f1 = f1_score(y_true, y_pred, average='weighted')\n",
        "print(f'Test F1: {f1}')\n",
        "\n",
        "# 혼동 행렬 출력\n",
        "cm = confusion_matrix(y_true, y_pred)\n",
        "print('Confusion Matrix:')\n",
        "print(cm)\n"
      ],
      "metadata": {
        "colab": {
          "base_uri": "https://localhost:8080/"
        },
        "id": "qjfsbzEW0bpX",
        "outputId": "90309378-75ad-4b4b-f3a5-d639d55acaaf"
      },
      "execution_count": null,
      "outputs": [
        {
          "output_type": "stream",
          "name": "stdout",
          "text": [
            "Test Accuracy: 0.9898\n",
            "Test F1: 0.9897942191412638\n",
            "Confusion Matrix:\n",
            "[[ 976    0    0    1    0    0    1    0    2    0]\n",
            " [   0 1132    1    0    0    0    1    1    0    0]\n",
            " [   2    0 1027    0    1    0    0    2    0    0]\n",
            " [   1    0    1 1000    0    3    0    3    2    0]\n",
            " [   0    0    0    0  975    0    0    0    1    6]\n",
            " [   2    0    0    2    0  884    3    0    0    1]\n",
            " [   6    5    0    0    3    3  940    0    1    0]\n",
            " [   0    1    7    1    0    0    0 1016    1    2]\n",
            " [   4    1    3    3    1    1    0    2  955    4]\n",
            " [   0    1    0    0    2    5    0    5    3  993]]\n"
          ]
        }
      ]
    },
    {
      "cell_type": "markdown",
      "source": [
        "**성능 결과**\n",
        "\n",
        "* 정확도(Accuracy): 98.98%로 모델이 테스트 데이터에서 매우 높은 성능을 보여줌.\n",
        "\n",
        "* F1 스코어: 0.9898로, 정확도와 재현율을 함께 고려한 성능 지표에서 높은 성능을 나타냄.\n",
        "\n",
        "* 혼동 행렬을 통해 모델이 예측을 잘한 부분과 오차가 발생한 부분을 구체적으로 확인할 수 있음.\n"
      ],
      "metadata": {
        "id": "-4gdp3HXc34z"
      }
    }
  ]
}